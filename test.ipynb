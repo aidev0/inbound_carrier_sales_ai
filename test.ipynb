{
 "cells": [
  {
   "cell_type": "code",
   "execution_count": 1,
   "id": "f45083dd",
   "metadata": {},
   "outputs": [],
   "source": [
    "%load_ext autoreload\n",
    "%autoreload 2"
   ]
  },
  {
   "cell_type": "code",
   "execution_count": 2,
   "id": "925c3f8c",
   "metadata": {},
   "outputs": [
    {
     "data": {
      "text/plain": [
       "{'status': 'verified',\n",
       " 'mc_number': '227271',\n",
       " 'dot_number': 428823,\n",
       " 'company_name': 'KNIGHT TRANSPORTATION INC',\n",
       " 'status_code': 'A',\n",
       " 'allowed_to_operate': 'Y',\n",
       " 'safety_rating': 'S',\n",
       " 'bipd_insurance_required': True,\n",
       " 'cargo_insurance_required': False,\n",
       " 'bipd_insurance_on_file': '5000',\n",
       " 'cargo_insurance_on_file': '5',\n",
       " 'total_drivers': 3200,\n",
       " 'total_power_units': 3200,\n",
       " 'physical_address': {'street': '2002 WEST WAHALLA LANE',\n",
       "  'city': 'PHOENIX',\n",
       "  'state': 'AZ',\n",
       "  'zipcode': '85027'}}"
      ]
     },
     "execution_count": 2,
     "metadata": {},
     "output_type": "execute_result"
    }
   ],
   "source": [
    "from fmcsa_verify import verify_mc_number\n",
    "verify_mc_number(\"MC-227271\")"
   ]
  },
  {
   "cell_type": "code",
   "execution_count": null,
   "id": "84d00a58",
   "metadata": {},
   "outputs": [],
   "source": []
  }
 ],
 "metadata": {
  "kernelspec": {
   "display_name": "venv",
   "language": "python",
   "name": "python3"
  },
  "language_info": {
   "codemirror_mode": {
    "name": "ipython",
    "version": 3
   },
   "file_extension": ".py",
   "mimetype": "text/x-python",
   "name": "python",
   "nbconvert_exporter": "python",
   "pygments_lexer": "ipython3",
   "version": "3.13.3"
  }
 },
 "nbformat": 4,
 "nbformat_minor": 5
}
